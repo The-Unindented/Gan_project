{
  "nbformat": 4,
  "nbformat_minor": 0,
  "metadata": {
    "colab": {
      "provenance": [],
      "gpuType": "T4",
      "authorship_tag": "ABX9TyMOxq4TAzojNy9htPSnabOu",
      "include_colab_link": true
    },
    "kernelspec": {
      "name": "python3",
      "display_name": "Python 3"
    },
    "language_info": {
      "name": "python"
    },
    "accelerator": "GPU"
  },
  "cells": [
    {
      "cell_type": "markdown",
      "metadata": {
        "id": "view-in-github",
        "colab_type": "text"
      },
      "source": [
        "<a href=\"https://colab.research.google.com/github/The-Unindented/Gan_project/blob/main/DL_Gan2.ipynb\" target=\"_parent\"><img src=\"https://colab.research.google.com/assets/colab-badge.svg\" alt=\"Open In Colab\"/></a>"
      ]
    },
    {
      "cell_type": "code",
      "execution_count": null,
      "metadata": {
        "id": "prwrtrbo2XHr"
      },
      "outputs": [],
      "source": [
        "import torch\n",
        "import torch.nn as nn\n",
        "import torch.optim as optim\n",
        "import torch.nn.functional as F\n",
        "from tensorflow.keras.datasets import mnist\n",
        "import matplotlib.pyplot as plt\n",
        "import numpy as np"
      ]
    },
    {
      "cell_type": "code",
      "source": [
        "device = torch.device(\"cuda\" if torch.cuda.is_available() else \"cpu\")"
      ],
      "metadata": {
        "id": "V0jATxUn3O6L"
      },
      "execution_count": null,
      "outputs": []
    },
    {
      "cell_type": "code",
      "source": [
        "(x_train, y_train), (x_test, y_test) = mnist.load_data()"
      ],
      "metadata": {
        "colab": {
          "base_uri": "https://localhost:8080/"
        },
        "id": "u47_aBHf3O8n",
        "outputId": "66fb38c1-bb74-496d-ddd0-8c5665d58b11"
      },
      "execution_count": null,
      "outputs": [
        {
          "output_type": "stream",
          "name": "stdout",
          "text": [
            "Downloading data from https://storage.googleapis.com/tensorflow/tf-keras-datasets/mnist.npz\n",
            "\u001b[1m11490434/11490434\u001b[0m \u001b[32m━━━━━━━━━━━━━━━━━━━━\u001b[0m\u001b[37m\u001b[0m \u001b[1m0s\u001b[0m 0us/step\n"
          ]
        }
      ]
    },
    {
      "cell_type": "code",
      "source": [
        "x_train = (x_train.astype(np.float32) - 127.5) / 127.5"
      ],
      "metadata": {
        "id": "UJJ174733O_a"
      },
      "execution_count": null,
      "outputs": []
    },
    {
      "cell_type": "code",
      "source": [
        "x_train = x_train.reshape(-1, 784)\n",
        "x_test = x_test.reshape(-1, 784)"
      ],
      "metadata": {
        "id": "EIicbLOg3PC7"
      },
      "execution_count": null,
      "outputs": []
    },
    {
      "cell_type": "code",
      "source": [
        "x_train = torch.tensor(x_train, dtype=torch.float32)\n",
        "x_test = torch.tensor(x_test, dtype=torch.float32)"
      ],
      "metadata": {
        "id": "hMQNJ4dX3eHU"
      },
      "execution_count": null,
      "outputs": []
    },
    {
      "cell_type": "code",
      "source": [
        "# generator which takes input vector of size 64 and output an image of size 784 pixel\n",
        "G = nn.Sequential(\n",
        "    nn.Linear(64, 256),\n",
        "    nn.ReLU(),\n",
        "    nn.Linear(256, 256),\n",
        "    nn.ReLU(),\n",
        "    nn.Linear(256, 784),\n",
        "    nn.Tanh()\n",
        ").to(device)\n",
        "\n",
        "# discriminator which takes image of 784 pixels and output the probability of being a real image\n",
        "D = nn.Sequential(\n",
        "    nn.Linear(784, 256),\n",
        "    nn.ReLU(),\n",
        "    nn.Linear(256, 256),\n",
        "    nn.ReLU(),\n",
        "    nn.Linear(256, 1),\n",
        "    nn.Sigmoid()\n",
        ").to(device)"
      ],
      "metadata": {
        "id": "Xi0YiaXS3eJ9"
      },
      "execution_count": null,
      "outputs": []
    },
    {
      "cell_type": "code",
      "source": [
        "def plot_fake_images(epoch, fake_images):\n",
        "    fake_images = fake_images.view(-1, 28, 28).cpu().data.numpy()\n",
        "    fig, ax = plt.subplots(8, 8, figsize=(8, 8))\n",
        "    for i in range(8):\n",
        "        for j in range(8):\n",
        "            ax[i, j].imshow(fake_images[i * 8 + j], cmap='gray')\n",
        "            ax[i, j].axis('off')\n",
        "    plt.suptitle(f'Fake Images at Epoch {epoch + 1}')\n",
        "    plt.show()"
      ],
      "metadata": {
        "id": "oapYVpd23eNT"
      },
      "execution_count": null,
      "outputs": []
    },
    {
      "cell_type": "code",
      "source": [
        "# Hyperparameters\n",
        "batch_size = 128\n",
        "z_dim = 64\n",
        "lr = 0.0002\n",
        "epochs = 100\n",
        "\n",
        "\n",
        "# Optimizers for both generator and discriminator\n",
        "optimizer_G = optim.Adam(G.parameters(), lr=lr)\n",
        "optimizer_D = optim.Adam(D.parameters(), lr=lr)\n",
        "\n",
        "# Loss function (Binary Cross Entropy)\n",
        "criterion = nn.BCELoss()\n",
        "\n",
        "# Training loop\n",
        "for epoch in range(epochs):\n",
        "    for i in range(0, len(x_train), batch_size):\n",
        "        # Get real images\n",
        "        real_images = x_train[i:i + batch_size].to(device)\n",
        "\n",
        "        # Labels for real (1) and fake (0) images\n",
        "        real_labels = torch.ones(len(real_images), 1).to(device)\n",
        "        fake_labels = torch.zeros(len(real_images), 1).to(device)\n",
        "\n",
        "        # Train Discriminator\n",
        "\n",
        "        # Real images\n",
        "        outputs_real = D(real_images)\n",
        "        loss_real = criterion(outputs_real, real_labels)\n",
        "\n",
        "        # Fake images\n",
        "        noise = torch.randn(len(real_images), z_dim).to(device)\n",
        "        fake_images = G(noise)\n",
        "        outputs_fake = D(fake_images)\n",
        "        loss_fake = criterion(outputs_fake, fake_labels)\n",
        "\n",
        "        # Total discriminator loss\n",
        "        loss_D = loss_real + loss_fake\n",
        "        optimizer_D.zero_grad()\n",
        "        loss_D.backward()\n",
        "        optimizer_D.step()\n",
        "\n",
        "\n",
        "        # Train Generator\n",
        "\n",
        "        # Generate fake images and compute generator loss\n",
        "        noise = torch.randn(len(real_images), z_dim).to(device)\n",
        "        fake_images = G(noise)\n",
        "        outputs_fake = D(fake_images)\n",
        "        loss_G = criterion(outputs_fake, real_labels)\n",
        "\n",
        "        # We want the generator to fool the discriminator\n",
        "        optimizer_G.zero_grad()\n",
        "        loss_G.backward()\n",
        "        optimizer_G.step()\n",
        "\n",
        "\n",
        "\n",
        "    print(f\"Epoch [{epoch+1}/{epochs}], Loss D: {loss_D.item():.4f}, Loss G: {loss_G.item():.4f}\")\n",
        "    plot_fake_images(epoch, G(noise))"
      ],
      "metadata": {
        "id": "Mlw2uopO3eTn"
      },
      "execution_count": null,
      "outputs": []
    },
    {
      "cell_type": "code",
      "source": [],
      "metadata": {
        "id": "G2h71bQizCur"
      },
      "execution_count": null,
      "outputs": []
    }
  ]
}
